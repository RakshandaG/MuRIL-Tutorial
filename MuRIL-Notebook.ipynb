{
  "nbformat": 4,
  "nbformat_minor": 0,
  "metadata": {
    "colab": {
      "name": "bert_similarity.ipynb",
      "provenance": [],
      "collapsed_sections": []
    },
    "kernelspec": {
      "name": "python3",
      "display_name": "Python 3"
    },
    "accelerator": "GPU"
  },
  "cells": [
    {
      "cell_type": "code",
      "metadata": {
        "id": "-8i_cx7D5WNT"
      },
      "source": [
        "!pip install bert-for-tf2\r\n",
        "!pip install tensorflow-text"
      ],
      "execution_count": null,
      "outputs": []
    },
    {
      "cell_type": "code",
      "metadata": {
        "id": "jRj7uJIO5dmY"
      },
      "source": [
        "import tensorflow as tf\r\n",
        "import tensorflow_datasets as tfds\r\n",
        "import tensorflow_hub as hub\r\n",
        "import tensorflow_text as text\r\n",
        "from bert import bert_tokenization\r\n",
        "import numpy as np\r\n",
        "from scipy.spatial import distance"
      ],
      "execution_count": null,
      "outputs": []
    },
    {
      "cell_type": "code",
      "metadata": {
        "id": "NNstvlXW6McH"
      },
      "source": [
        "def get_model(model_url, max_seq_length):\r\n",
        "  inputs = dict(\r\n",
        "    input_word_ids=tf.keras.layers.Input(shape=(max_seq_length,), dtype=tf.int32),\r\n",
        "    input_mask=tf.keras.layers.Input(shape=(max_seq_length,), dtype=tf.int32),\r\n",
        "    input_type_ids=tf.keras.layers.Input(shape=(max_seq_length,), dtype=tf.int32),\r\n",
        "    )\r\n",
        "\r\n",
        "  muril_layer = hub.KerasLayer(model_url, trainable=True)\r\n",
        "  outputs = muril_layer(inputs)\r\n",
        "\r\n",
        "  assert 'sequence_output' in outputs\r\n",
        "  assert 'pooled_output' in outputs\r\n",
        "  assert 'encoder_outputs' in outputs\r\n",
        "  assert 'default' in outputs\r\n",
        "  return tf.keras.Model(inputs=inputs,outputs=outputs[\"pooled_output\"]), muril_layer"
      ],
      "execution_count": null,
      "outputs": []
    },
    {
      "cell_type": "code",
      "metadata": {
        "id": "07ixOV9S6MnA"
      },
      "source": [
        "max_seq_length = 128\r\n",
        "muril_model, muril_layer = get_model(\r\n",
        "    model_url=\"https://tfhub.dev/google/MuRIL/1\", max_seq_length=max_seq_length)"
      ],
      "execution_count": null,
      "outputs": []
    },
    {
      "cell_type": "code",
      "metadata": {
        "id": "6Z6j6JCm6rQS"
      },
      "source": [
        "vocab_file = muril_layer.resolved_object.vocab_file.asset_path.numpy()\r\n",
        "do_lower_case = muril_layer.resolved_object.do_lower_case.numpy()\r\n",
        "tokenizer = bert_tokenization.FullTokenizer(vocab_file, do_lower_case)"
      ],
      "execution_count": null,
      "outputs": []
    },
    {
      "cell_type": "code",
      "metadata": {
        "id": "WnVWeEWg6s4O"
      },
      "source": [
        "def create_input(input_strings, tokenizer, max_seq_length):\r\n",
        "  input_ids_all, input_mask_all, input_type_ids_all = [], [], []\r\n",
        "  for input_string in input_strings:\r\n",
        "    input_tokens = [\"[CLS]\"] + tokenizer.tokenize(input_string) + [\"[SEP]\"]\r\n",
        "    input_ids = tokenizer.convert_tokens_to_ids(input_tokens)\r\n",
        "    sequence_length = min(len(input_ids), max_seq_length)\r\n",
        "    \r\n",
        "    if len(input_ids) >= max_seq_length:\r\n",
        "      input_ids = input_ids[:max_seq_length]\r\n",
        "    else:\r\n",
        "      input_ids = input_ids + [0] * (max_seq_length - len(input_ids))\r\n",
        "\r\n",
        "    input_mask = [1] * sequence_length + [0] * (max_seq_length - sequence_length)\r\n",
        "\r\n",
        "    input_ids_all.append(input_ids)\r\n",
        "    input_mask_all.append(input_mask)\r\n",
        "    input_type_ids_all.append([0] * max_seq_length)\r\n",
        "  \r\n",
        "  return np.array(input_ids_all), np.array(input_mask_all), np.array(input_type_ids_all)"
      ],
      "execution_count": null,
      "outputs": []
    },
    {
      "cell_type": "code",
      "metadata": {
        "id": "EUsPPuRC6czo"
      },
      "source": [
        "def encode(input_text):\r\n",
        "  input_ids, input_mask, input_type_ids = create_input(input_text, \r\n",
        "                                                       tokenizer, \r\n",
        "                                                       max_seq_length)\r\n",
        "  inputs = dict(\r\n",
        "      input_word_ids=input_ids,\r\n",
        "      input_mask=input_mask,\r\n",
        "      input_type_ids=input_type_ids,\r\n",
        "  )\r\n",
        "  return muril_model(inputs)"
      ],
      "execution_count": 18,
      "outputs": []
    },
    {
      "cell_type": "code",
      "metadata": {
        "id": "AK3-geTH7J30"
      },
      "source": [
        "sentences = [\"दोस्त\", \"मित्र\", \"शत्रु\"]"
      ],
      "execution_count": 19,
      "outputs": []
    },
    {
      "cell_type": "code",
      "metadata": {
        "id": "P175yKCz7a2u"
      },
      "source": [
        "embeddings = encode(sentences)"
      ],
      "execution_count": 20,
      "outputs": []
    },
    {
      "cell_type": "code",
      "metadata": {
        "colab": {
          "base_uri": "https://localhost:8080/"
        },
        "id": "qZk5VGke7hhj",
        "outputId": "c91bd0bd-53a5-4cc2-c19f-ab3ad0745777"
      },
      "source": [
        "dst_1 = distance.euclidean(np.array(embeddings[0]), \r\n",
        "                           np.array(embeddings[1]))\r\n",
        "print(\"Distance between {} & {} is {}\".format(sentences[0],\r\n",
        "                                                sentences[1],\r\n",
        "                                                dst_1))"
      ],
      "execution_count": 21,
      "outputs": [
        {
          "output_type": "stream",
          "text": [
            "Distance between दोस्त & मित्र is 0.009007866494357586\n"
          ],
          "name": "stdout"
        }
      ]
    },
    {
      "cell_type": "code",
      "metadata": {
        "colab": {
          "base_uri": "https://localhost:8080/"
        },
        "id": "zJrjO8gk7jf5",
        "outputId": "924e4dbe-7cc6-4173-d85d-f0ad334169bb"
      },
      "source": [
        "dst_2 = distance.euclidean(np.array(embeddings[1]), \r\n",
        "                           np.array(embeddings[2]))\r\n",
        "print(\"Distance between {} & {} is {}\".format(sentences[1],\r\n",
        "                                                sentences[2],\r\n",
        "                                                dst_2))"
      ],
      "execution_count": 22,
      "outputs": [
        {
          "output_type": "stream",
          "text": [
            "Distance between मित्र & शत्रु is 0.011569375172257423\n"
          ],
          "name": "stdout"
        }
      ]
    },
    {
      "cell_type": "code",
      "metadata": {
        "colab": {
          "base_uri": "https://localhost:8080/"
        },
        "id": "QZHemH7eAAje",
        "outputId": "1bbde8b4-5c66-4ec4-8fe6-8b1e3cf7638a"
      },
      "source": [
        "dst_2 > dst_1"
      ],
      "execution_count": 23,
      "outputs": [
        {
          "output_type": "execute_result",
          "data": {
            "text/plain": [
              "True"
            ]
          },
          "metadata": {
            "tags": []
          },
          "execution_count": 23
        }
      ]
    },
    {
      "cell_type": "code",
      "metadata": {
        "id": "YBhW36aP8BSL"
      },
      "source": [
        ""
      ],
      "execution_count": null,
      "outputs": []
    }
  ]
}